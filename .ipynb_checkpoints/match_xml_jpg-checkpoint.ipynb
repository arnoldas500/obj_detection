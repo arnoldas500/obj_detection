{
 "cells": [
  {
   "cell_type": "code",
   "execution_count": 25,
   "metadata": {},
   "outputs": [],
   "source": [
    "import os\n",
    "import filecmp\n",
    "import shutil"
   ]
  },
  {
   "cell_type": "code",
   "execution_count": 2,
   "metadata": {},
   "outputs": [],
   "source": [
    "def getListOfFiles(dirName):\n",
    "    # create a list of file and sub directories \n",
    "    # names in the given directory \n",
    "    listOfFile = os.listdir(dirName)\n",
    "    allFiles = list()\n",
    "    # Iterate over all the entries\n",
    "    for entry in listOfFile:\n",
    "        # Create full path\n",
    "        fullPath = os.path.join(dirName, entry)\n",
    "        # If entry is a directory then get the list of files in this directory \n",
    "        if os.path.isdir(fullPath):\n",
    "            allFiles = allFiles + getListOfFiles(fullPath)\n",
    "        else:\n",
    "            allFiles.append(fullPath)\n",
    "                \n",
    "    return allFiles    "
   ]
  },
  {
   "cell_type": "code",
   "execution_count": 8,
   "metadata": {},
   "outputs": [],
   "source": [
    "dirName = '/data/mesonet/cam_photos/';\n",
    "listOfFiles = getListOfFiles(dirName)"
   ]
  },
  {
   "cell_type": "code",
   "execution_count": 9,
   "metadata": {},
   "outputs": [
    {
     "name": "stdout",
     "output_type": "stream",
     "text": [
      "/data/mesonet/cam_photos/2016/03/28/TICO/20160328T194001_TICO.jpg\n",
      "3129250\n"
     ]
    }
   ],
   "source": [
    "print(listOfFiles[0])\n",
    "print(len(listOfFiles))"
   ]
  },
  {
   "cell_type": "code",
   "execution_count": 6,
   "metadata": {},
   "outputs": [
    {
     "name": "stdout",
     "output_type": "stream",
     "text": [
      "test\n"
     ]
    }
   ],
   "source": [
    "print(\"test\")"
   ]
  },
  {
   "cell_type": "code",
   "execution_count": 10,
   "metadata": {},
   "outputs": [],
   "source": [
    "dirNameXML = \"/data/mesonet/labelImg/\"\n",
    "listOfXML = getListOfFiles(dirNameXML)"
   ]
  },
  {
   "cell_type": "code",
   "execution_count": 12,
   "metadata": {},
   "outputs": [
    {
     "name": "stdout",
     "output_type": "stream",
     "text": [
      "349\n"
     ]
    }
   ],
   "source": [
    "print(len(listOfXML))"
   ]
  },
  {
   "cell_type": "code",
   "execution_count": 13,
   "metadata": {},
   "outputs": [
    {
     "data": {
      "text/plain": [
       "'/data/mesonet/labelImg/20160716T171002_BURT.xml'"
      ]
     },
     "execution_count": 13,
     "metadata": {},
     "output_type": "execute_result"
    }
   ],
   "source": [
    "listOfXML[0]"
   ]
  },
  {
   "cell_type": "code",
   "execution_count": 19,
   "metadata": {},
   "outputs": [
    {
     "name": "stdout",
     "output_type": "stream",
     "text": [
      "20160328T194001_TICO.jpg\n",
      "/data/mesonet/cam_photos/2016/03/28/TICO/20160328T194001_TICO.jpg\n"
     ]
    }
   ],
   "source": [
    "\n",
    "first_file='/data/mesonet/cam_photos/2016/03/28/TICO/20160328T194001_TICO.jpg'\n",
    "second_file='/data/mesonet/labelImg/20160328T194001_TICO.xml'\n",
    "\n",
    "my_search_string = os.path.basename(first_file)\n",
    "print(my_search_string)\n",
    "if my_search_string[:-4] in os.path.basename(second_file):\n",
    "    print(first_file)"
   ]
  },
  {
   "cell_type": "code",
   "execution_count": 20,
   "metadata": {},
   "outputs": [
    {
     "name": "stdout",
     "output_type": "stream",
     "text": [
      "1999\n"
     ]
    }
   ],
   "source": [
    "dirUnsorted = '/data/random/unsorted'\n",
    "listUnsorted = getListOfFiles(dirUnsorted)\n",
    "print(len(listUnsorted))"
   ]
  },
  {
   "cell_type": "code",
   "execution_count": 24,
   "metadata": {},
   "outputs": [
    {
     "name": "stdout",
     "output_type": "stream",
     "text": [
      "['/data/mesonet/cam_photos/2016/03/03/ESSX/20160303T155001_ESSX.jpg', '/data/mesonet/cam_photos/2016/03/01/TICO/20160301T144001_TICO.jpg', '/data/mesonet/cam_photos/2016/03/01/ESSX/20160301T153002_ESSX.jpg', '/data/mesonet/cam_photos/2016/03/13/DELE/20160313T203501_DELE.jpg', '/data/mesonet/cam_photos/2016/05/03/DELE/20160503T191501_DELE.jpg', '/data/mesonet/cam_photos/2016/05/15/DELE/20160515T122001_DELE.jpg', '/data/mesonet/cam_photos/2016/05/12/BATA/20160512T194001_BATA.jpg', '/data/mesonet/cam_photos/2016/05/16/WARW/20160516T102003_WARW.jpg', '/data/mesonet/cam_photos/2016/06/05/TICO/20160605T135004_TICO.jpg', '/data/mesonet/cam_photos/2016/06/24/DELE/20160624T185501_DELE.jpg', '/data/mesonet/cam_photos/2016/06/01/WARW/20160601T231004_WARW.jpg', '/data/mesonet/cam_photos/2016/06/15/DELE/20160615T102501_DELE.jpg', '/data/mesonet/cam_photos/2016/06/21/ESSX/20160621T213001_ESSX.jpg', '/data/mesonet/cam_photos/2016/06/19/DELE/20160619T235501_DELE.jpg', '/data/mesonet/cam_photos/2016/06/13/DELE/20160613T235501_DELE.jpg', '/data/mesonet/cam_photos/2016/06/09/DELE/20160609T232501_DELE.jpg', '/data/mesonet/cam_photos/2016/10/22/ESSX/20161022T161505_ESSX.jpg', '/data/mesonet/cam_photos/2016/10/03/MALO/20161003T141007_MALO.jpg', '/data/mesonet/cam_photos/2016/10/14/VOOR/20161014T145524_VOOR.jpg', '/data/mesonet/cam_photos/2016/10/14/BATA/20161014T142001_BATA.jpg', '/data/mesonet/cam_photos/2016/10/14/ESSX/20161014T163005_ESSX.jpg', '/data/mesonet/cam_photos/2016/10/30/YORK/20161030T165517_YORK.jpg', '/data/mesonet/cam_photos/2016/10/10/ESSX/20161010T110504_ESSX.jpg', '/data/mesonet/cam_photos/2016/10/21/BATA/20161021T144502_BATA.jpg', '/data/mesonet/cam_photos/2016/10/12/BURT/20161012T141001_BURT.jpg', '/data/mesonet/cam_photos/2016/10/12/VOOR/20161012T223510_VOOR.jpg', '/data/mesonet/cam_photos/2016/10/19/ESSX/20161019T164506_ESSX.jpg', '/data/mesonet/cam_photos/2016/10/19/YORK/20161019T210529_YORK.jpg', '/data/mesonet/cam_photos/2016/10/13/VOOR/20161013T133011_VOOR.jpg', '/data/mesonet/cam_photos/2016/10/23/TICO/20161023T180019_TICO.jpg', '/data/mesonet/cam_photos/2016/10/17/GFLD/20161017T171509_GFLD.jpg', '/data/mesonet/cam_photos/2016/10/20/ESSX/20161020T130005_ESSX.jpg', '/data/mesonet/cam_photos/2016/10/29/VOOR/20161029T170015_VOOR.jpg', '/data/mesonet/cam_photos/2016/10/08/WARW/20161008T161510_WARW.jpg', '/data/mesonet/cam_photos/2016/10/11/VOOR/20161011T173513_VOOR.jpg', '/data/mesonet/cam_photos/2016/12/03/GFLD/20161203T174507_GFLD.jpg', '/data/mesonet/cam_photos/2016/12/24/GFLD/20161224T204005_GFLD.jpg', '/data/mesonet/cam_photos/2016/12/14/DELE/20161214T140004_DELE.jpg', '/data/mesonet/cam_photos/2016/12/27/WARW/20161227T173012_WARW.jpg', '/data/mesonet/cam_photos/2016/12/27/DELE/20161227T194004_DELE.jpg', '/data/mesonet/cam_photos/2016/12/31/TICO/20161231T171510_TICO.jpg', '/data/mesonet/cam_photos/2016/12/15/BATA/20161215T134001_BATA.jpg', '/data/mesonet/cam_photos/2016/12/12/BATA/20161212T204001_BATA.jpg', '/data/mesonet/cam_photos/2016/12/04/GFLD/20161204T172506_GFLD.jpg', '/data/mesonet/cam_photos/2016/12/29/VOOR/20161229T130512_VOOR.jpg', '/data/mesonet/cam_photos/2016/12/08/VOOR/20161208T154025_VOOR.jpg', '/data/mesonet/cam_photos/2016/12/08/MALO/20161208T171516_MALO.jpg', '/data/mesonet/cam_photos/2016/02/22/TICO/20160222T180001_TICO.jpg', '/data/mesonet/cam_photos/2016/02/06/ESSX/20160206T192501_ESSX.jpg', '/data/mesonet/cam_photos/2016/02/06/ESSX/20160206T213001_ESSX.jpg', '/data/mesonet/cam_photos/2016/02/23/TICO/20160223T154501_TICO.jpg', '/data/mesonet/cam_photos/2016/02/29/BATA/20160229T204501_BATA.jpg', '/data/mesonet/cam_photos/2016/02/08/TICO/20160208T205001_TICO.jpg', '/data/mesonet/cam_photos/2016/09/05/ESSX/20160905T153004_ESSX.jpg', '/data/mesonet/cam_photos/2016/09/06/GFLD/20160906T205509_GFLD.jpg', '/data/mesonet/cam_photos/2016/09/15/ESSX/20160915T150004_ESSX.jpg', '/data/mesonet/cam_photos/2016/09/15/MALO/20160915T220007_MALO.jpg', '/data/mesonet/cam_photos/2016/09/12/ESSX/20160912T204504_ESSX.jpg', '/data/mesonet/cam_photos/2016/09/12/YORK/20160912T123009_YORK.jpg', '/data/mesonet/cam_photos/2016/09/02/YORK/20160902T232511_YORK.jpg', '/data/mesonet/cam_photos/2016/09/02/YORK/20160902T155511_YORK.jpg', '/data/mesonet/cam_photos/2016/09/13/DELE/20160913T105004_DELE.jpg', '/data/mesonet/cam_photos/2016/09/17/BURT/20160917T224502_BURT.jpg', '/data/mesonet/cam_photos/2016/09/17/DELE/20160917T223004_DELE.jpg', '/data/mesonet/cam_photos/2016/09/04/WARW/20160904T174007_WARW.jpg', '/data/mesonet/cam_photos/2016/09/04/DELE/20160904T144503_DELE.jpg', '/data/mesonet/cam_photos/2016/09/20/TICO/20160920T175014_TICO.jpg', '/data/mesonet/cam_photos/2016/09/11/TICO/20160911T144507_TICO.jpg', '/data/mesonet/cam_photos/2016/07/24/WARW/20160724T194007_WARW.jpg', '/data/mesonet/cam_photos/2016/07/30/TICO/20160730T165004_TICO.jpg', '/data/mesonet/cam_photos/2016/07/30/BATA/20160730T155002_BATA.jpg', '/data/mesonet/cam_photos/2016/07/30/ESSX/20160730T134001_ESSX.jpg', '/data/mesonet/cam_photos/2016/07/01/ESSX/20160701T231501_ESSX.jpg', '/data/mesonet/cam_photos/2016/07/06/DELE/20160706T202001_DELE.jpg', '/data/mesonet/cam_photos/2016/07/10/BATA/20160710T103001_BATA.jpg', '/data/mesonet/cam_photos/2016/07/19/TICO/20160719T212004_TICO.jpg', '/data/mesonet/cam_photos/2016/07/19/BURT/20160719T093501_BURT.jpg', '/data/mesonet/cam_photos/2016/07/26/DELE/20160726T120002_DELE.jpg', '/data/mesonet/cam_photos/2016/07/25/TICO/20160725T004505_TICO.jpg', '/data/mesonet/cam_photos/2016/07/25/BATA/20160725T185501_BATA.jpg', '/data/mesonet/cam_photos/2016/07/23/ESSX/20160723T192001_ESSX.jpg', '/data/mesonet/cam_photos/2016/07/04/WARW/20160704T122004_WARW.jpg', '/data/mesonet/cam_photos/2016/07/04/BURT/20160704T211501_BURT.jpg', '/data/mesonet/cam_photos/2016/07/20/BATA/20160720T233002_BATA.jpg', '/data/mesonet/cam_photos/2016/07/16/BURT/20160716T171002_BURT.jpg', '/data/mesonet/cam_photos/2016/07/29/DELE/20160729T183001_DELE.jpg', '/data/mesonet/cam_photos/2016/07/08/WARW/20160708T220005_WARW.jpg', '/data/mesonet/cam_photos/2016/07/08/BURT/20160708T224501_BURT.jpg', '/data/mesonet/cam_photos/2016/07/08/ESSX/20160708T185001_ESSX.jpg', '/data/mesonet/cam_photos/2016/04/03/ESSX/20160403T124001_ESSX.jpg', '/data/mesonet/cam_photos/2016/04/24/DELE/20160424T111501_DELE.jpg', '/data/mesonet/cam_photos/2016/04/15/WARW/20160415T152501_WARW.jpg', '/data/mesonet/cam_photos/2016/04/19/TICO/20160419T202501_TICO.jpg', '/data/mesonet/cam_photos/2016/04/19/WARW/20160419T123002_WARW.jpg', '/data/mesonet/cam_photos/2016/04/26/DELE/20160426T124001_DELE.jpg', '/data/mesonet/cam_photos/2016/04/13/ESSX/20160413T133501_ESSX.jpg', '/data/mesonet/cam_photos/2016/04/25/WARW/20160425T173503_WARW.jpg', '/data/mesonet/cam_photos/2016/04/09/TICO/20160409T154001_TICO.jpg', '/data/mesonet/cam_photos/2016/04/20/DELE/20160420T221001_DELE.jpg', '/data/mesonet/cam_photos/2016/04/29/BATA/20160429T192001_BATA.jpg', '/data/mesonet/cam_photos/2016/08/28/WARW/20160828T222010_WARW.jpg', '/data/mesonet/cam_photos/2016/08/24/TICO/20160824T195511_TICO.jpg', '/data/mesonet/cam_photos/2016/08/24/BURT/20160824T145501_BURT.jpg', '/data/mesonet/cam_photos/2016/08/14/WARW/20160814T185505_WARW.jpg', '/data/mesonet/cam_photos/2016/08/01/WARW/20160801T162005_WARW.jpg', '/data/mesonet/cam_photos/2016/08/01/ESSX/20160801T142001_ESSX.jpg', '/data/mesonet/cam_photos/2016/08/10/WARW/20160810T114505_WARW.jpg', '/data/mesonet/cam_photos/2016/08/10/WARW/20160810T103505_WARW.jpg', '/data/mesonet/cam_photos/2016/08/27/YORK/20160827T185018_YORK.jpg', '/data/mesonet/cam_photos/2016/08/15/ESSX/20160815T123001_ESSX.jpg', '/data/mesonet/cam_photos/2016/08/21/BURT/20160821T200002_BURT.jpg', '/data/mesonet/cam_photos/2016/08/02/DELE/20160802T155501_DELE.jpg', '/data/mesonet/cam_photos/2016/08/02/ESSX/20160802T163001_ESSX.jpg', '/data/mesonet/cam_photos/2016/08/26/YORK/20160826T200519_YORK.jpg', '/data/mesonet/cam_photos/2016/08/13/WARW/20160813T163505_WARW.jpg', '/data/mesonet/cam_photos/2016/08/23/TICO/20160823T150013_TICO.jpg', '/data/mesonet/cam_photos/2016/08/07/BURT/20160807T215001_BURT.jpg', '/data/mesonet/cam_photos/2016/08/20/MALO/20160820T161513_MALO.jpg', '/data/mesonet/cam_photos/2016/08/29/YORK/20160829T213019_YORK.jpg', '/data/mesonet/cam_photos/2016/11/22/ESSX/20161122T182506_ESSX.jpg', '/data/mesonet/cam_photos/2016/11/24/GFLD/20161124T182508_GFLD.jpg', '/data/mesonet/cam_photos/2016/11/14/GFLD/20161114T131508_GFLD.jpg', '/data/mesonet/cam_photos/2016/11/14/ESSX/20161114T193016_ESSX.jpg', '/data/mesonet/cam_photos/2016/11/14/YORK/20161114T165531_YORK.jpg', '/data/mesonet/cam_photos/2016/11/14/YORK/20161114T181037_YORK.jpg', '/data/mesonet/cam_photos/2016/11/30/TICO/20161130T185038_TICO.jpg', '/data/mesonet/cam_photos/2016/11/01/TICO/20161101T191034_TICO.jpg', '/data/mesonet/cam_photos/2016/11/10/TICO/20161110T214527_TICO.jpg', '/data/mesonet/cam_photos/2016/11/27/MALO/20161127T195512_MALO.jpg', '/data/mesonet/cam_photos/2016/11/21/VOOR/20161121T175025_VOOR.jpg', '/data/mesonet/cam_photos/2016/11/13/TICO/20161113T144523_TICO.jpg', '/data/mesonet/cam_photos/2016/11/23/BATA/20161123T181501_BATA.jpg', '/data/mesonet/cam_photos/2016/11/07/TICO/20161107T172032_TICO.jpg', '/data/mesonet/cam_photos/2016/11/04/GFLD/20161104T193506_GFLD.jpg', '/data/mesonet/cam_photos/2016/11/20/GFLD/20161120T202509_GFLD.jpg', '/data/mesonet/cam_photos/2016/11/08/MALO/20161108T185523_MALO.jpg', '/data/mesonet/cam_photos/2019/01/01/BATA/20190101T140527_BATA.jpg', '/data/mesonet/cam_photos/2019/01/01/BATA/20190101T132026_BATA.jpg', '/data/mesonet/cam_photos/2019/01/01/BATA/20190101T143026_BATA.jpg', '/data/mesonet/cam_photos/2019/01/01/BATA/20190101T000026_BATA.jpg', '/data/mesonet/cam_photos/2019/01/01/BATA/20190101T135526_BATA.jpg', '/data/mesonet/cam_photos/2019/01/01/BATA/20190101T131026_BATA.jpg', '/data/mesonet/cam_photos/2019/01/01/BATA/20190101T131526_BATA.jpg', '/data/mesonet/cam_photos/2019/01/01/BATA/20190101T140027_BATA.jpg', '/data/mesonet/cam_photos/2019/01/01/BATA/20190101T161527_BATA.jpg', '/data/mesonet/cam_photos/2019/01/01/BATA/20190101T154526_BATA.jpg', '/data/mesonet/cam_photos/2019/01/01/BATA/20190101T130026_BATA.jpg', '/data/mesonet/cam_photos/2019/01/01/BATA/20190101T141026_BATA.jpg', '/data/mesonet/cam_photos/2019/01/01/BATA/20190101T134527_BATA.jpg', '/data/mesonet/cam_photos/2019/01/01/BATA/20190101T144526_BATA.jpg', '/data/mesonet/cam_photos/2019/01/01/BATA/20190101T141527_BATA.jpg', '/data/mesonet/cam_photos/2019/01/01/BATA/20190101T150027_BATA.jpg', '/data/mesonet/cam_photos/2019/01/01/BATA/20190101T123527_BATA.jpg', '/data/mesonet/cam_photos/2019/01/01/BATA/20190101T122526_BATA.jpg', '/data/mesonet/cam_photos/2019/01/01/BATA/20190101T152526_BATA.jpg', '/data/mesonet/cam_photos/2019/01/01/BATA/20190101T153027_BATA.jpg', '/data/mesonet/cam_photos/2019/01/01/BATA/20190101T145027_BATA.jpg', '/data/mesonet/cam_photos/2019/01/01/BATA/20190101T151026_BATA.jpg', '/data/mesonet/cam_photos/2019/01/01/BATA/20190101T144027_BATA.jpg', '/data/mesonet/cam_photos/2019/01/01/BATA/20190101T161026_BATA.jpg', '/data/mesonet/cam_photos/2019/01/01/BATA/20190101T150526_BATA.jpg', '/data/mesonet/cam_photos/2019/01/01/BATA/20190101T132527_BATA.jpg', '/data/mesonet/cam_photos/2019/01/01/BATA/20190101T160526_BATA.jpg', '/data/mesonet/cam_photos/2019/01/01/BATA/20190101T142526_BATA.jpg', '/data/mesonet/cam_photos/2019/01/01/BATA/20190101T010027_BATA.jpg', '/data/mesonet/cam_photos/2019/01/01/BATA/20190101T162527_BATA.jpg', '/data/mesonet/cam_photos/2019/01/01/BATA/20190101T151527_BATA.jpg', '/data/mesonet/cam_photos/2019/01/01/BATA/20190101T020026_BATA.jpg', '/data/mesonet/cam_photos/2019/01/01/BATA/20190101T124527_BATA.jpg', '/data/mesonet/cam_photos/2019/01/01/BATA/20190101T155027_BATA.jpg', '/data/mesonet/cam_photos/2019/01/01/BATA/20190101T134026_BATA.jpg', '/data/mesonet/cam_photos/2019/01/01/BATA/20190101T133526_BATA.jpg', '/data/mesonet/cam_photos/2019/01/01/BATA/20190101T143526_BATA.jpg', '/data/mesonet/cam_photos/2019/01/01/BATA/20190101T162027_BATA.jpg', '/data/mesonet/cam_photos/2019/01/01/BATA/20190101T152027_BATA.jpg', '/data/mesonet/cam_photos/2019/01/01/BATA/20190101T163026_BATA.jpg', '/data/mesonet/cam_photos/2019/01/01/BATA/20190101T145526_BATA.jpg', '/data/mesonet/cam_photos/2019/01/01/BATA/20190101T155526_BATA.jpg', '/data/mesonet/cam_photos/2019/01/01/BATA/20190101T153526_BATA.jpg', '/data/mesonet/cam_photos/2019/01/01/BATA/20190101T133027_BATA.jpg', '/data/mesonet/cam_photos/2019/01/01/BATA/20190101T124026_BATA.jpg', '/data/mesonet/cam_photos/2019/01/01/BATA/20190101T160027_BATA.jpg', '/data/mesonet/cam_photos/2019/01/01/BATA/20190101T123027_BATA.jpg', '/data/mesonet/cam_photos/2019/01/01/BATA/20190101T125026_BATA.jpg', '/data/mesonet/cam_photos/2019/01/01/BATA/20190101T142026_BATA.jpg', '/data/mesonet/cam_photos/2019/01/01/BATA/20190101T130527_BATA.jpg', '/data/mesonet/cam_photos/2019/01/01/BATA/20190101T154026_BATA.jpg', '/data/mesonet/cam_photos/2019/01/01/BATA/20190101T125526_BATA.jpg', '/data/mesonet/cam_photos/2019/01/01/BATA/20190101T135026_BATA.jpg', '/data/mesonet/cam_photos/2019/06/01/VOOR/20190601T190531_VOOR.jpg', '/data/mesonet/cam_photos/2019/06/01/VOOR/20190601T172529_VOOR.jpg', '/data/mesonet/cam_photos/2019/06/01/VOOR/20190601T145530_VOOR.jpg', '/data/mesonet/cam_photos/2019/06/01/VOOR/20190601T154530_VOOR.jpg', '/data/mesonet/cam_photos/2019/06/01/VOOR/20190601T155529_VOOR.jpg', '/data/mesonet/cam_photos/2019/06/01/VOOR/20190601T212529_VOOR.jpg', '/data/mesonet/cam_photos/2019/06/01/VOOR/20190601T000029_VOOR.jpg', '/data/mesonet/cam_photos/2019/06/01/VOOR/20190601T165029_VOOR.jpg', '/data/mesonet/cam_photos/2019/06/01/VOOR/20190601T204030_VOOR.jpg', '/data/mesonet/cam_photos/2019/06/01/VOOR/20190601T175530_VOOR.jpg', '/data/mesonet/cam_photos/2019/06/01/VOOR/20190601T214530_VOOR.jpg', '/data/mesonet/cam_photos/2019/06/01/VOOR/20190601T114529_VOOR.jpg', '/data/mesonet/cam_photos/2019/06/01/VOOR/20190601T163029_VOOR.jpg', '/data/mesonet/cam_photos/2019/06/01/VOOR/20190601T110529_VOOR.jpg', '/data/mesonet/cam_photos/2019/06/01/VOOR/20190601T112029_VOOR.jpg', '/data/mesonet/cam_photos/2019/06/01/VOOR/20190601T181030_VOOR.jpg', '/data/mesonet/cam_photos/2019/06/01/VOOR/20190601T100029_VOOR.jpg', '/data/mesonet/cam_photos/2019/06/01/VOOR/20190601T145030_VOOR.jpg', '/data/mesonet/cam_photos/2019/06/01/VOOR/20190601T001530_VOOR.jpg', '/data/mesonet/cam_photos/2019/06/01/VOOR/20190601T201530_VOOR.jpg', '/data/mesonet/cam_photos/2019/06/01/VOOR/20190601T150030_VOOR.jpg', '/data/mesonet/cam_photos/2019/06/01/VOOR/20190601T175029_VOOR.jpg', '/data/mesonet/cam_photos/2019/06/01/VOOR/20190601T123029_VOOR.jpg', '/data/mesonet/cam_photos/2019/06/01/VOOR/20190601T111028_VOOR.jpg', '/data/mesonet/cam_photos/2019/06/01/VOOR/20190601T122030_VOOR.jpg', '/data/mesonet/cam_photos/2019/06/01/VOOR/20190601T150539_VOOR.jpg', '/data/mesonet/cam_photos/2019/06/01/VOOR/20190601T115529_VOOR.jpg', '/data/mesonet/cam_photos/2019/06/01/VOOR/20190601T213029_VOOR.jpg', '/data/mesonet/cam_photos/2019/06/01/VOOR/20190601T185029_VOOR.jpg', '/data/mesonet/cam_photos/2019/06/01/VOOR/20190601T144530_VOOR.jpg', '/data/mesonet/cam_photos/2019/06/01/VOOR/20190601T211029_VOOR.jpg', '/data/mesonet/cam_photos/2019/06/01/VOOR/20190601T174530_VOOR.jpg', '/data/mesonet/cam_photos/2019/06/01/VOOR/20190601T120529_VOOR.jpg', '/data/mesonet/cam_photos/2019/06/01/VOOR/20190601T180530_VOOR.jpg', '/data/mesonet/cam_photos/2019/06/01/VOOR/20190601T214029_VOOR.jpg', '/data/mesonet/cam_photos/2019/06/01/VOOR/20190601T173530_VOOR.jpg', '/data/mesonet/cam_photos/2019/06/01/VOOR/20190601T105529_VOOR.jpg', '/data/mesonet/cam_photos/2019/06/01/VOOR/20190601T170029_VOOR.jpg', '/data/mesonet/cam_photos/2019/06/01/VOOR/20190601T182530_VOOR.jpg', '/data/mesonet/cam_photos/2019/06/01/VOOR/20190601T113529_VOOR.jpg', '/data/mesonet/cam_photos/2019/06/01/VOOR/20190601T121029_VOOR.jpg', '/data/mesonet/cam_photos/2019/06/01/VOOR/20190601T182029_VOOR.jpg', '/data/mesonet/cam_photos/2019/06/01/VOOR/20190601T172030_VOOR.jpg', '/data/mesonet/cam_photos/2019/06/01/VOOR/20190601T170530_VOOR.jpg', '/data/mesonet/cam_photos/2019/06/01/VOOR/20190601T094029_VOOR.jpg', '/data/mesonet/cam_photos/2019/06/01/VOOR/20190601T201029_VOOR.jpg', '/data/mesonet/cam_photos/2019/06/01/VOOR/20190601T162529_VOOR.jpg', '/data/mesonet/cam_photos/2019/06/01/VOOR/20190601T130029_VOOR.jpg', '/data/mesonet/cam_photos/2019/06/01/VOOR/20190601T104029_VOOR.jpg', '/data/mesonet/cam_photos/2019/06/01/VOOR/20190601T173030_VOOR.jpg', '/data/mesonet/cam_photos/2019/06/01/VOOR/20190601T115029_VOOR.jpg', '/data/mesonet/cam_photos/2019/06/01/VOOR/20190601T163529_VOOR.jpg', '/data/mesonet/cam_photos/2019/06/01/VOOR/20190601T095029_VOOR.jpg', '/data/mesonet/cam_photos/2019/06/01/VOOR/20190601T185530_VOOR.jpg', '/data/mesonet/cam_photos/2019/06/01/VOOR/20190601T165528_VOOR.jpg', '/data/mesonet/cam_photos/2019/06/01/VOOR/20190601T192530_VOOR.jpg', '/data/mesonet/cam_photos/2019/06/01/VOOR/20190601T152529_VOOR.jpg', '/data/mesonet/cam_photos/2019/06/01/VOOR/20190601T221529_VOOR.jpg', '/data/mesonet/cam_photos/2019/06/01/VOOR/20190601T112530_VOOR.jpg', '/data/mesonet/cam_photos/2019/06/01/VOOR/20190601T124029_VOOR.jpg', '/data/mesonet/cam_photos/2019/06/01/VOOR/20190601T234529_VOOR.jpg', '/data/mesonet/cam_photos/2019/06/01/VOOR/20190601T195029_VOOR.jpg', '/data/mesonet/cam_photos/2019/06/01/VOOR/20190601T211529_VOOR.jpg', '/data/mesonet/cam_photos/2019/06/01/VOOR/20190601T195529_VOOR.jpg', '/data/mesonet/cam_photos/2019/06/01/VOOR/20190601T153029_VOOR.jpg', '/data/mesonet/cam_photos/2019/06/01/VOOR/20190601T152029_VOOR.jpg', '/data/mesonet/cam_photos/2019/06/01/VOOR/20190601T101029_VOOR.jpg', '/data/mesonet/cam_photos/2019/06/01/VOOR/20190601T161529_VOOR.jpg', '/data/mesonet/cam_photos/2019/06/01/VOOR/20190601T223028_VOOR.jpg', '/data/mesonet/cam_photos/2019/06/01/VOOR/20190601T101530_VOOR.jpg', '/data/mesonet/cam_photos/2019/06/01/VOOR/20190601T155029_VOOR.jpg', '/data/mesonet/cam_photos/2019/06/01/VOOR/20190601T235029_VOOR.jpg', '/data/mesonet/cam_photos/2019/06/01/VOOR/20190601T194530_VOOR.jpg', '/data/mesonet/cam_photos/2019/06/01/VOOR/20190601T164529_VOOR.jpg', '/data/mesonet/cam_photos/2019/06/01/VOOR/20190601T162029_VOOR.jpg', '/data/mesonet/cam_photos/2019/06/01/VOOR/20190601T154029_VOOR.jpg', '/data/mesonet/cam_photos/2019/06/01/VOOR/20190601T094529_VOOR.jpg', '/data/mesonet/cam_photos/2019/06/01/VOOR/20190601T193029_VOOR.jpg', '/data/mesonet/cam_photos/2019/06/01/VOOR/20190601T193530_VOOR.jpg', '/data/mesonet/cam_photos/2019/06/01/VOOR/20190601T120029_VOOR.jpg', '/data/mesonet/cam_photos/2019/06/01/VOOR/20190601T171029_VOOR.jpg', '/data/mesonet/cam_photos/2019/06/01/VOOR/20190601T102028_VOOR.jpg', '/data/mesonet/cam_photos/2019/06/01/VOOR/20190601T001029_VOOR.jpg', '/data/mesonet/cam_photos/2019/06/01/VOOR/20190601T124530_VOOR.jpg', '/data/mesonet/cam_photos/2019/06/01/VOOR/20190601T192029_VOOR.jpg', '/data/mesonet/cam_photos/2019/06/01/VOOR/20190601T203030_VOOR.jpg', '/data/mesonet/cam_photos/2019/06/01/VOOR/20190601T200531_VOOR.jpg', '/data/mesonet/cam_photos/2019/06/01/VOOR/20190601T213531_VOOR.jpg', '/data/mesonet/cam_photos/2019/06/01/VOOR/20190601T105029_VOOR.jpg', '/data/mesonet/cam_photos/2019/06/01/VOOR/20190601T100529_VOOR.jpg', '/data/mesonet/cam_photos/2019/06/01/VOOR/20190601T194030_VOOR.jpg', '/data/mesonet/cam_photos/2019/06/01/VOOR/20190601T202530_VOOR.jpg', '/data/mesonet/cam_photos/2019/06/01/VOOR/20190601T215029_VOOR.jpg', '/data/mesonet/cam_photos/2019/06/01/VOOR/20190601T222529_VOOR.jpg', '/data/mesonet/cam_photos/2019/06/01/VOOR/20190601T183529_VOOR.jpg', '/data/mesonet/cam_photos/2019/06/01/VOOR/20190601T191529_VOOR.jpg', '/data/mesonet/cam_photos/2019/06/01/VOOR/20190601T104529_VOOR.jpg', '/data/mesonet/cam_photos/2019/06/01/VOOR/20190601T103029_VOOR.jpg', '/data/mesonet/cam_photos/2019/06/01/VOOR/20190601T110029_VOOR.jpg', '/data/mesonet/cam_photos/2019/06/01/VOOR/20190601T095529_VOOR.jpg', '/data/mesonet/cam_photos/2019/06/01/VOOR/20190601T221029_VOOR.jpg', '/data/mesonet/cam_photos/2019/06/01/VOOR/20190601T231529_VOOR.jpg', '/data/mesonet/cam_photos/2019/06/01/VOOR/20190601T190029_VOOR.jpg', '/data/mesonet/cam_photos/2019/06/01/VOOR/20190601T111529_VOOR.jpg', '/data/mesonet/cam_photos/2019/06/01/VOOR/20190601T181530_VOOR.jpg', '/data/mesonet/cam_photos/2019/06/01/VOOR/20190601T191029_VOOR.jpg', '/data/mesonet/cam_photos/2019/06/01/VOOR/20190601T235531_VOOR.jpg', '/data/mesonet/cam_photos/2019/06/01/VOOR/20190601T200030_VOOR.jpg', '/data/mesonet/cam_photos/2019/06/01/VOOR/20190601T234029_VOOR.jpg', '/data/mesonet/cam_photos/2019/06/01/VOOR/20190601T203530_VOOR.jpg', '/data/mesonet/cam_photos/2019/06/01/VOOR/20190601T202029_VOOR.jpg', '/data/mesonet/cam_photos/2019/06/01/VOOR/20190601T164029_VOOR.jpg', '/data/mesonet/cam_photos/2019/06/01/VOOR/20190601T151529_VOOR.jpg', '/data/mesonet/cam_photos/2019/06/01/VOOR/20190601T153529_VOOR.jpg', '/data/mesonet/cam_photos/2019/06/01/VOOR/20190601T204531_VOOR.jpg', '/data/mesonet/cam_photos/2019/06/01/VOOR/20190601T180030_VOOR.jpg', '/data/mesonet/cam_photos/2019/06/01/VOOR/20190601T151029_VOOR.jpg', '/data/mesonet/cam_photos/2019/06/01/VOOR/20190601T212029_VOOR.jpg', '/data/mesonet/cam_photos/2019/06/01/VOOR/20190601T122529_VOOR.jpg', '/data/mesonet/cam_photos/2019/06/01/VOOR/20190601T171530_VOOR.jpg', '/data/mesonet/cam_photos/2019/06/01/VOOR/20190601T184029_VOOR.jpg', '/data/mesonet/cam_photos/2019/06/01/VOOR/20190601T121529_VOOR.jpg', '/data/mesonet/cam_photos/2019/06/01/VOOR/20190601T113029_VOOR.jpg', '/data/mesonet/cam_photos/2019/06/01/VOOR/20190601T183030_VOOR.jpg', '/data/mesonet/cam_photos/2019/06/01/VOOR/20190601T184529_VOOR.jpg', '/data/mesonet/cam_photos/2019/06/01/VOOR/20190601T000531_VOOR.jpg', '/data/mesonet/cam_photos/2019/06/01/VOOR/20190601T103529_VOOR.jpg', '/data/mesonet/cam_photos/2019/06/01/VOOR/20190601T174029_VOOR.jpg', '/data/mesonet/cam_photos/2019/06/01/VOOR/20190601T114029_VOOR.jpg', '/data/mesonet/cam_photos/2015/12/26/ESSX/20151226T192001_ESSX.jpg', '/data/mesonet/cam_photos/2015/12/13/ESSX/20151213T172001_ESSX.jpg', '/data/mesonet/cam_photos/2017/03/22/VOOR/20170322T202017_VOOR.jpg', '/data/mesonet/cam_photos/2017/03/22/YORK/20170322T160020_YORK.jpg', '/data/mesonet/cam_photos/2017/03/21/VOOR/20170321T233516_VOOR.jpg', '/data/mesonet/cam_photos/2017/03/12/ESSX/20170312T133005_ESSX.jpg', '/data/mesonet/cam_photos/2017/03/23/SOME/20170323T224015_SOME.jpg', '/data/mesonet/cam_photos/2017/03/17/ESSX/20170317T204506_ESSX.jpg', '/data/mesonet/cam_photos/2017/03/04/GFLD/20170304T212508_GFLD.jpg', '/data/mesonet/cam_photos/2017/05/16/TICO/20170516T092011_TICO.jpg', '/data/mesonet/cam_photos/2017/01/03/BATA/20170103T205502_BATA.jpg', '/data/mesonet/cam_photos/2017/01/03/BATA/20170103T185501_BATA.jpg', '/data/mesonet/cam_photos/2017/01/03/ESSX/20170103T202004_ESSX.jpg', '/data/mesonet/cam_photos/2017/01/03/MALO/20170103T154006_MALO.jpg', '/data/mesonet/cam_photos/2017/01/14/ESSX/20170114T133004_ESSX.jpg', '/data/mesonet/cam_photos/2017/01/01/GFLD/20170101T204005_GFLD.jpg', '/data/mesonet/cam_photos/2017/01/06/DELE/20170106T172004_DELE.jpg', '/data/mesonet/cam_photos/2017/01/10/GFLD/20170110T133505_GFLD.jpg', '/data/mesonet/cam_photos/2017/01/09/WARW/20170109T184514_WARW.jpg', '/data/mesonet/cam_photos/2017/01/16/TICO/20170116T190010_TICO.jpg', '/data/mesonet/cam_photos/2017/01/16/VOOR/20170116T181011_VOOR.jpg', '/data/mesonet/cam_photos/2017/02/27/BURT/20170227T144501_BURT.jpg', '/data/mesonet/cam_photos/2017/02/17/YORK/20170217T175016_YORK.jpg', '/data/mesonet/cam_photos/2017/04/03/ESSX/20170403T155004_ESSX.jpg', '/data/mesonet/cam_photos/2017/04/14/YORK/20170414T140532_YORK.jpg', '/data/mesonet/cam_photos/2017/04/18/GFLD/20170418T155510_GFLD.jpg', '/data/mesonet/cam_photos/2017/04/18/YORK/20170418T195028_YORK.jpg', '/data/mesonet/cam_photos/2017/04/02/DELE/20170402T110004_DELE.jpg', '/data/mesonet/cam_photos/2017/04/23/DELE/20170423T184505_DELE.jpg', '/data/mesonet/cam_photos/2017/04/17/BURT/20170417T164001_BURT.jpg', '/data/mesonet/cam_photos/2017/04/08/BATA/20170408T204501_BATA.jpg']\n"
     ]
    }
   ],
   "source": [
    "#works\n",
    "move_me = []\n",
    "for first_file in listOfFiles:\n",
    "    my_search_string = os.path.basename(first_file)\n",
    "    #print(my_search_string)\n",
    "    for second_file in listOfXML:\n",
    "        if my_search_string[:-4] in os.path.basename(second_file):\n",
    "            #print(first_file, second_file) #they match, good job arnold\n",
    "            move_me.append(first_file)\n",
    "print(move_me)"
   ]
  },
  {
   "cell_type": "code",
   "execution_count": 26,
   "metadata": {},
   "outputs": [],
   "source": [
    "for f in move_me:\n",
    "    shutil.copy(f, '/data/mesonet/labelImg/')"
   ]
  },
  {
   "cell_type": "code",
   "execution_count": null,
   "metadata": {},
   "outputs": [],
   "source": []
  }
 ],
 "metadata": {
  "kernelspec": {
   "display_name": "Python 3",
   "language": "python",
   "name": "python3"
  },
  "language_info": {
   "codemirror_mode": {
    "name": "ipython",
    "version": 3
   },
   "file_extension": ".py",
   "mimetype": "text/x-python",
   "name": "python",
   "nbconvert_exporter": "python",
   "pygments_lexer": "ipython3",
   "version": "3.5.2"
  }
 },
 "nbformat": 4,
 "nbformat_minor": 2
}
